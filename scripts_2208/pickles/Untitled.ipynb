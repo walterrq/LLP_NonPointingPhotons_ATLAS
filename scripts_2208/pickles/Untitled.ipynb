{
 "cells": [
  {
   "cell_type": "code",
   "execution_count": 2,
   "id": "31f27576-30dd-40e2-b4f6-50e75a97f18a",
   "metadata": {
    "tags": []
   },
   "outputs": [
    {
     "name": "stdout",
     "output_type": "stream",
     "text": [
      "                  E         pt       eta       phi      z_origin  \\\n",
      "N    id                                                            \n",
      "0    0    73.716583  34.904377 -1.379311  0.631110  2.460923e+02   \n",
      "1    0    45.085621  18.483543 -1.539885  0.199650  2.969348e+02   \n",
      "4    0    50.941715  29.942875 -1.124174  1.187544  2.445645e-07   \n",
      "5    0    14.603584  14.127522  0.258882 -1.997412  3.184673e-07   \n",
      "7    0    38.241425  20.832699 -1.216393  1.383049  1.032732e+03   \n",
      "...             ...        ...       ...       ...           ...   \n",
      "9996 1    38.357052  13.554634 -1.700565 -0.265156  1.060005e+03   \n",
      "9997 0    31.957527  29.735512  0.384222 -1.279177  6.630958e-08   \n",
      "     1    33.275196  27.801348  0.617656 -1.561288  1.434363e+03   \n",
      "9998 0   175.231567  71.323761  1.547769 -1.772587  2.509104e-14   \n",
      "9999 0    23.566898  21.033663  0.485993  1.557980  5.248472e-08   \n",
      "\n",
      "              rel_tof        MET  \n",
      "N    id                           \n",
      "0    0   4.418066e-01  25.845676  \n",
      "1    0   2.147558e+00  53.918209  \n",
      "4    0  -2.006539e-09  41.416683  \n",
      "5    0  -3.426779e-10  68.235176  \n",
      "7    0   2.565692e+00  41.795502  \n",
      "...               ...        ...  \n",
      "9996 1   1.549054e+00   8.561328  \n",
      "9997 0  -2.269202e-09  73.059181  \n",
      "     1   2.969407e+00  73.059181  \n",
      "9998 0   0.000000e+00  55.764107  \n",
      "9999 0  -1.242446e-10  49.498066  \n",
      "\n",
      "[8651 rows x 7 columns]\n"
     ]
    }
   ],
   "source": [
    "import pandas as pd\n",
    "\n",
    "obj = pd.read_pickle(r'full_op_TTH_M9_Alpha4_13_photons.pickle')\n",
    "print(obj)"
   ]
  },
  {
   "cell_type": "code",
   "execution_count": 3,
   "id": "ba98d29c-4cb1-41cc-a15c-9e6f51132770",
   "metadata": {
    "tags": []
   },
   "outputs": [
    {
     "name": "stdout",
     "output_type": "stream",
     "text": [
      "                 E         pt       eta       phi      z_origin       rel_tof  \\\n",
      "N    id                                                                         \n",
      "3    0   47.491272  15.771776  1.766683  0.364387  1.081745e+03  4.479946e-01   \n",
      "5    0   52.413784  30.484373  1.137196 -2.456996  4.783516e+02  6.096836e-01   \n",
      "     1   12.330769  11.436275  0.392980  2.987581  6.822555e-08 -8.548273e-11   \n",
      "6    0   56.891247  54.826225 -0.273608 -3.029469  9.102958e-08 -2.654486e-09   \n",
      "10   0   35.534988  13.130499  1.652700  1.371883  4.781901e-07 -2.053026e-09   \n",
      "...            ...        ...       ...       ...           ...           ...   \n",
      "9994 0   49.267857  12.825006 -2.021634 -1.853825  9.332918e-07 -2.694302e-09   \n",
      "9995 0   18.423044  18.356251  0.085282 -0.292567  2.728381e+01  1.284282e+00   \n",
      "     1   11.086607  10.493662  0.334607 -0.279421  3.048233e-09  1.711848e-10   \n",
      "9997 0   47.492115  19.237114 -1.553069 -0.830514  9.047190e-07 -9.294878e-09   \n",
      "9998 0   16.748964  14.351334  0.570283  0.334153  2.541808e-08 -7.247118e-10   \n",
      "\n",
      "                MET  \n",
      "N    id              \n",
      "3    0    19.843992  \n",
      "5    0    51.334827  \n",
      "     1    51.334827  \n",
      "6    0   142.841095  \n",
      "10   0    66.515854  \n",
      "...             ...  \n",
      "9994 0    50.109142  \n",
      "9995 0    43.877964  \n",
      "     1    43.877964  \n",
      "9997 0    27.320494  \n",
      "9998 0    54.193825  \n",
      "\n",
      "[8644 rows x 7 columns]\n"
     ]
    }
   ],
   "source": [
    "import pandas as pd\n",
    "\n",
    "obj = pd.read_pickle(r'full_op_WH_M9_Alpha4_13_photons.pickle')\n",
    "print(obj)"
   ]
  },
  {
   "cell_type": "code",
   "execution_count": 4,
   "id": "89134196-bf0e-40a1-b0f2-2cabe4cd7014",
   "metadata": {
    "tags": []
   },
   "outputs": [
    {
     "name": "stdout",
     "output_type": "stream",
     "text": [
      "                 E         pt       eta       phi      z_origin       rel_tof  \\\n",
      "N    id                                                                         \n",
      "1    0   37.303204  11.822771 -1.816084 -1.179839  8.069325e+02  8.421029e-01   \n",
      "2    0   10.234974  10.078589 -0.175935 -0.622571  0.000000e+00  0.000000e+00   \n",
      "3    0   25.549473  25.504284  0.059521 -0.033711  5.657235e-08 -6.665060e-10   \n",
      "4    0   39.253246  26.345869 -0.953353 -0.252563  2.423398e+02  4.758236e-01   \n",
      "     1   87.199623  20.222824 -2.140810  2.195111  0.000000e+00  0.000000e+00   \n",
      "...            ...        ...       ...       ...           ...           ...   \n",
      "9993 0   13.686494  10.140458  0.813660  2.551798  5.111399e-09 -2.923413e-10   \n",
      "9994 0   28.200603  19.698387  0.898570  1.427356  5.214308e-08 -9.766588e-11   \n",
      "9995 0   36.422066  24.322147 -0.960171  0.250358  7.371664e-08 -1.898107e-09   \n",
      "9996 0   32.191597  14.883726  1.406265  2.082129  6.980593e+02  4.824019e-01   \n",
      "9999 0   50.932896  24.793861 -1.347730 -2.311355  7.999267e-08 -5.104255e-10   \n",
      "\n",
      "                MET  \n",
      "N    id              \n",
      "1    0    80.731377  \n",
      "2    0   159.341827  \n",
      "3    0    47.160725  \n",
      "4    0    41.448345  \n",
      "     1    41.448345  \n",
      "...             ...  \n",
      "9993 0    81.233910  \n",
      "9994 0    34.043224  \n",
      "9995 0   105.723412  \n",
      "9996 0    51.593090  \n",
      "9999 0   117.119781  \n",
      "\n",
      "[9798 rows x 7 columns]\n"
     ]
    }
   ],
   "source": [
    "import pandas as pd\n",
    "\n",
    "obj = pd.read_pickle(r'full_op_ZH_M9_Alpha4_13_photons.pickle')\n",
    "print(obj)"
   ]
  },
  {
   "cell_type": "code",
   "execution_count": 17,
   "id": "3bac0f03-3f92-4f6c-9035-cf6921464e32",
   "metadata": {
    "tags": []
   },
   "outputs": [
    {
     "name": "stdout",
     "output_type": "stream",
     "text": [
      "                  E         pt       eta       phi      z_origin  \\\n",
      "N    id                                                            \n",
      "1    0    37.303204  11.822771 -1.816084 -1.179839  8.069325e+02   \n",
      "2    0    10.234974  10.078589 -0.175935 -0.622571  0.000000e+00   \n",
      "3    0    25.549473  25.504284  0.059521 -0.033711  5.657235e-08   \n",
      "4    0    39.253246  26.345869 -0.953353 -0.252563  2.423398e+02   \n",
      "     1    87.199623  20.222824 -2.140810  2.195111  0.000000e+00   \n",
      "...             ...        ...       ...       ...           ...   \n",
      "9996 1    38.357052  13.554634 -1.700565 -0.265156  1.060005e+03   \n",
      "9997 0    31.957527  29.735512  0.384222 -1.279177  6.630958e-08   \n",
      "     1    33.275196  27.801348  0.617656 -1.561288  1.434363e+03   \n",
      "9998 0   175.231567  71.323761  1.547769 -1.772587  2.509104e-14   \n",
      "9999 0    23.566898  21.033663  0.485993  1.557980  5.248472e-08   \n",
      "\n",
      "              rel_tof         MET  \n",
      "N    id                            \n",
      "1    0   8.421029e-01   80.731377  \n",
      "2    0   0.000000e+00  159.341827  \n",
      "3    0  -6.665060e-10   47.160725  \n",
      "4    0   4.758236e-01   41.448345  \n",
      "     1   0.000000e+00   41.448345  \n",
      "...               ...         ...  \n",
      "9996 1   1.549054e+00    8.561328  \n",
      "9997 0  -2.269202e-09   73.059181  \n",
      "     1   2.969407e+00   73.059181  \n",
      "9998 0   0.000000e+00   55.764107  \n",
      "9999 0  -1.242446e-10   49.498066  \n",
      "\n",
      "[27093 rows x 7 columns]\n"
     ]
    }
   ],
   "source": [
    "funtest = pd.read_pickle(r'megaphoton_4.pickle')\n",
    "print(funtest)"
   ]
  },
  {
   "cell_type": "code",
   "execution_count": 5,
   "id": "d4bbe8fd-608a-4616-b453-a1465a37641c",
   "metadata": {
    "tags": []
   },
   "outputs": [
    {
     "name": "stdout",
     "output_type": "stream",
     "text": [
      "                  E         pt       eta       phi      z_origin  \\\n",
      "N    id                                                            \n",
      "1    0    37.303204  11.822771 -1.816084 -1.179839  8.069325e+02   \n",
      "2    0    10.234974  10.078589 -0.175935 -0.622571  0.000000e+00   \n",
      "3    0    25.549473  25.504284  0.059521 -0.033711  5.657235e-08   \n",
      "4    0    39.253246  26.345869 -0.953353 -0.252563  2.423398e+02   \n",
      "     1    87.199623  20.222824 -2.140810  2.195111  0.000000e+00   \n",
      "...             ...        ...       ...       ...           ...   \n",
      "9996 1    38.357052  13.554634 -1.700565 -0.265156  1.060005e+03   \n",
      "9997 0    31.957527  29.735512  0.384222 -1.279177  6.630958e-08   \n",
      "     1    33.275196  27.801348  0.617656 -1.561288  1.434363e+03   \n",
      "9998 0   175.231567  71.323761  1.547769 -1.772587  2.509104e-14   \n",
      "9999 0    23.566898  21.033663  0.485993  1.557980  5.248472e-08   \n",
      "\n",
      "              rel_tof         MET  \n",
      "N    id                            \n",
      "1    0   8.421029e-01   80.731377  \n",
      "2    0   0.000000e+00  159.341827  \n",
      "3    0  -6.665060e-10   47.160725  \n",
      "4    0   4.758236e-01   41.448345  \n",
      "     1   0.000000e+00   41.448345  \n",
      "...               ...         ...  \n",
      "9996 1   1.549054e+00    8.561328  \n",
      "9997 0  -2.269202e-09   73.059181  \n",
      "     1   2.969407e+00   73.059181  \n",
      "9998 0   0.000000e+00   55.764107  \n",
      "9999 0  -1.242446e-10   49.498066  \n",
      "\n",
      "[27093 rows x 7 columns]\n"
     ]
    }
   ],
   "source": [
    "import pandas as pd\n",
    "\n",
    "obj = pd.read_pickle(r'megaphoton_4.pickle')\n",
    "print(obj)"
   ]
  },
  {
   "cell_type": "code",
   "execution_count": 7,
   "id": "dc681824-588d-4afa-b9b4-00d8790a7732",
   "metadata": {
    "tags": []
   },
   "outputs": [
    {
     "ename": "KeyError",
     "evalue": "'id'",
     "output_type": "error",
     "traceback": [
      "\u001b[0;31m---------------------------------------------------------------------------\u001b[0m",
      "\u001b[0;31mKeyError\u001b[0m                                  Traceback (most recent call last)",
      "File \u001b[0;32m~/anaconda3/lib/python3.11/site-packages/pandas/core/indexes/base.py:3802\u001b[0m, in \u001b[0;36mIndex.get_loc\u001b[0;34m(self, key, method, tolerance)\u001b[0m\n\u001b[1;32m   3801\u001b[0m \u001b[38;5;28;01mtry\u001b[39;00m:\n\u001b[0;32m-> 3802\u001b[0m     \u001b[38;5;28;01mreturn\u001b[39;00m \u001b[38;5;28mself\u001b[39m\u001b[38;5;241m.\u001b[39m_engine\u001b[38;5;241m.\u001b[39mget_loc(casted_key)\n\u001b[1;32m   3803\u001b[0m \u001b[38;5;28;01mexcept\u001b[39;00m \u001b[38;5;167;01mKeyError\u001b[39;00m \u001b[38;5;28;01mas\u001b[39;00m err:\n",
      "File \u001b[0;32m~/anaconda3/lib/python3.11/site-packages/pandas/_libs/index.pyx:138\u001b[0m, in \u001b[0;36mpandas._libs.index.IndexEngine.get_loc\u001b[0;34m()\u001b[0m\n",
      "File \u001b[0;32m~/anaconda3/lib/python3.11/site-packages/pandas/_libs/index.pyx:165\u001b[0m, in \u001b[0;36mpandas._libs.index.IndexEngine.get_loc\u001b[0;34m()\u001b[0m\n",
      "File \u001b[0;32mpandas/_libs/hashtable_class_helper.pxi:5745\u001b[0m, in \u001b[0;36mpandas._libs.hashtable.PyObjectHashTable.get_item\u001b[0;34m()\u001b[0m\n",
      "File \u001b[0;32mpandas/_libs/hashtable_class_helper.pxi:5753\u001b[0m, in \u001b[0;36mpandas._libs.hashtable.PyObjectHashTable.get_item\u001b[0;34m()\u001b[0m\n",
      "\u001b[0;31mKeyError\u001b[0m: 'id'",
      "\nThe above exception was the direct cause of the following exception:\n",
      "\u001b[0;31mKeyError\u001b[0m                                  Traceback (most recent call last)",
      "Cell \u001b[0;32mIn[7], line 8\u001b[0m\n\u001b[1;32m      4\u001b[0m df_C \u001b[38;5;241m=\u001b[39m pd\u001b[38;5;241m.\u001b[39mread_pickle(\u001b[38;5;124m'\u001b[39m\u001b[38;5;124mfull_op_ZH_M9_Alpha4_13_photons.pickle\u001b[39m\u001b[38;5;124m'\u001b[39m)\n\u001b[1;32m      6\u001b[0m \u001b[38;5;66;03m# Adjust the 'id' values in df_B and df_C to avoid overlaps\u001b[39;00m\n\u001b[1;32m      7\u001b[0m \u001b[38;5;66;03m# Start df_B 'id' from the max 'id' of df_A + 1\u001b[39;00m\n\u001b[0;32m----> 8\u001b[0m max_id_A \u001b[38;5;241m=\u001b[39m df_A[\u001b[38;5;124m'\u001b[39m\u001b[38;5;124mid\u001b[39m\u001b[38;5;124m'\u001b[39m]\u001b[38;5;241m.\u001b[39mmax()\n\u001b[1;32m      9\u001b[0m df_B[\u001b[38;5;124m'\u001b[39m\u001b[38;5;124mid\u001b[39m\u001b[38;5;124m'\u001b[39m] \u001b[38;5;241m+\u001b[39m\u001b[38;5;241m=\u001b[39m (max_id_A \u001b[38;5;241m+\u001b[39m \u001b[38;5;241m1\u001b[39m)\n\u001b[1;32m     11\u001b[0m \u001b[38;5;66;03m# Start df_C 'id' from the max 'id' of df_A and df_B + 1\u001b[39;00m\n",
      "File \u001b[0;32m~/anaconda3/lib/python3.11/site-packages/pandas/core/frame.py:3807\u001b[0m, in \u001b[0;36mDataFrame.__getitem__\u001b[0;34m(self, key)\u001b[0m\n\u001b[1;32m   3805\u001b[0m \u001b[38;5;28;01mif\u001b[39;00m \u001b[38;5;28mself\u001b[39m\u001b[38;5;241m.\u001b[39mcolumns\u001b[38;5;241m.\u001b[39mnlevels \u001b[38;5;241m>\u001b[39m \u001b[38;5;241m1\u001b[39m:\n\u001b[1;32m   3806\u001b[0m     \u001b[38;5;28;01mreturn\u001b[39;00m \u001b[38;5;28mself\u001b[39m\u001b[38;5;241m.\u001b[39m_getitem_multilevel(key)\n\u001b[0;32m-> 3807\u001b[0m indexer \u001b[38;5;241m=\u001b[39m \u001b[38;5;28mself\u001b[39m\u001b[38;5;241m.\u001b[39mcolumns\u001b[38;5;241m.\u001b[39mget_loc(key)\n\u001b[1;32m   3808\u001b[0m \u001b[38;5;28;01mif\u001b[39;00m is_integer(indexer):\n\u001b[1;32m   3809\u001b[0m     indexer \u001b[38;5;241m=\u001b[39m [indexer]\n",
      "File \u001b[0;32m~/anaconda3/lib/python3.11/site-packages/pandas/core/indexes/base.py:3804\u001b[0m, in \u001b[0;36mIndex.get_loc\u001b[0;34m(self, key, method, tolerance)\u001b[0m\n\u001b[1;32m   3802\u001b[0m     \u001b[38;5;28;01mreturn\u001b[39;00m \u001b[38;5;28mself\u001b[39m\u001b[38;5;241m.\u001b[39m_engine\u001b[38;5;241m.\u001b[39mget_loc(casted_key)\n\u001b[1;32m   3803\u001b[0m \u001b[38;5;28;01mexcept\u001b[39;00m \u001b[38;5;167;01mKeyError\u001b[39;00m \u001b[38;5;28;01mas\u001b[39;00m err:\n\u001b[0;32m-> 3804\u001b[0m     \u001b[38;5;28;01mraise\u001b[39;00m \u001b[38;5;167;01mKeyError\u001b[39;00m(key) \u001b[38;5;28;01mfrom\u001b[39;00m \u001b[38;5;21;01merr\u001b[39;00m\n\u001b[1;32m   3805\u001b[0m \u001b[38;5;28;01mexcept\u001b[39;00m \u001b[38;5;167;01mTypeError\u001b[39;00m:\n\u001b[1;32m   3806\u001b[0m     \u001b[38;5;66;03m# If we have a listlike key, _check_indexing_error will raise\u001b[39;00m\n\u001b[1;32m   3807\u001b[0m     \u001b[38;5;66;03m#  InvalidIndexError. Otherwise we fall through and re-raise\u001b[39;00m\n\u001b[1;32m   3808\u001b[0m     \u001b[38;5;66;03m#  the TypeError.\u001b[39;00m\n\u001b[1;32m   3809\u001b[0m     \u001b[38;5;28mself\u001b[39m\u001b[38;5;241m.\u001b[39m_check_indexing_error(key)\n",
      "\u001b[0;31mKeyError\u001b[0m: 'id'"
     ]
    }
   ],
   "source": [
    "import pandas as pd\n",
    "df_A = pd.read_pickle('full_op_TTH_M9_Alpha4_13_photons.pickle')\n",
    "df_B = pd.read_pickle('full_op_WH_M9_Alpha4_13_photons.pickle')\n",
    "df_C = pd.read_pickle('full_op_ZH_M9_Alpha4_13_photons.pickle')\n",
    "\n",
    "# Adjust the 'id' values in df_B and df_C to avoid overlaps\n",
    "# Start df_B 'id' from the max 'id' of df_A + 1\n",
    "max_id_A = df_A['id'].max()\n",
    "df_B['id'] += (max_id_A + 1)\n",
    "\n",
    "# Start df_C 'id' from the max 'id' of df_A and df_B + 1\n",
    "max_id_B = df_B['id'].max()\n",
    "df_C['id'] += (max_id_B + 1)\n",
    "\n",
    "# Concatenate the DataFrames\n",
    "df_combined = pd.concat([df_A, df_B, df_C])\n",
    "\n",
    "# Sort the resulting DataFrame by 'N' and 'id'\n",
    "df_combined = df_combined.sort_index()\n",
    "\n",
    "# Display the combined DataFrame\n",
    "print(df_combined)"
   ]
  },
  {
   "cell_type": "code",
   "execution_count": 8,
   "id": "13edc4e9-6d55-4bff-bd4a-3dcbae31f7f3",
   "metadata": {
    "tags": []
   },
   "outputs": [
    {
     "name": "stdout",
     "output_type": "stream",
     "text": [
      "Columns in df_A: Index(['E', 'pt', 'eta', 'phi', 'z_origin', 'rel_tof', 'MET'], dtype='object')\n",
      "Columns in df_B: Index(['E', 'pt', 'eta', 'phi', 'z_origin', 'rel_tof', 'MET'], dtype='object')\n",
      "Columns in df_C: Index(['E', 'pt', 'eta', 'phi', 'z_origin', 'rel_tof', 'MET'], dtype='object')\n"
     ]
    }
   ],
   "source": [
    "df_A = pd.read_pickle('full_op_TTH_M9_Alpha4_13_photons.pickle')\n",
    "df_B = pd.read_pickle('full_op_WH_M9_Alpha4_13_photons.pickle')\n",
    "df_C = pd.read_pickle('full_op_ZH_M9_Alpha4_13_photons.pickle')\n",
    "\n",
    "# Print the columns of each DataFrame\n",
    "print(\"Columns in df_A:\", df_A.columns)\n",
    "print(\"Columns in df_B:\", df_B.columns)\n",
    "print(\"Columns in df_C:\", df_C.columns)"
   ]
  },
  {
   "cell_type": "code",
   "execution_count": 9,
   "id": "211a1081-f575-40d2-867c-3d80d59642b4",
   "metadata": {
    "tags": []
   },
   "outputs": [
    {
     "name": "stdout",
     "output_type": "stream",
     "text": [
      "                  E         pt       eta       phi      z_origin  \\\n",
      "N    id                                                            \n",
      "0    0    73.716583  34.904377 -1.379311  0.631110  2.460923e+02   \n",
      "1    0    45.085621  18.483543 -1.539885  0.199650  2.969348e+02   \n",
      "     8    37.303204  11.822771 -1.816084 -1.179839  8.069325e+02   \n",
      "2    8    10.234974  10.078589 -0.175935 -0.622571  0.000000e+00   \n",
      "3    4    47.491272  15.771776  1.766683  0.364387  1.081745e+03   \n",
      "...             ...        ...       ...       ...           ...   \n",
      "9997 4    47.492115  19.237114 -1.553069 -0.830514  9.047190e-07   \n",
      "9998 0   175.231567  71.323761  1.547769 -1.772587  2.509104e-14   \n",
      "     4    16.748964  14.351334  0.570283  0.334153  2.541808e-08   \n",
      "9999 0    23.566898  21.033663  0.485993  1.557980  5.248472e-08   \n",
      "     8    50.932896  24.793861 -1.347730 -2.311355  7.999267e-08   \n",
      "\n",
      "              rel_tof         MET  \n",
      "N    id                            \n",
      "0    0   4.418066e-01   25.845676  \n",
      "1    0   2.147558e+00   53.918209  \n",
      "     8   8.421029e-01   80.731377  \n",
      "2    8   0.000000e+00  159.341827  \n",
      "3    4   4.479946e-01   19.843992  \n",
      "...               ...         ...  \n",
      "9997 4  -9.294878e-09   27.320494  \n",
      "9998 0   0.000000e+00   55.764107  \n",
      "     4  -7.247118e-10   54.193825  \n",
      "9999 0  -1.242446e-10   49.498066  \n",
      "     8  -5.104255e-10  117.119781  \n",
      "\n",
      "[27093 rows x 7 columns]\n"
     ]
    }
   ],
   "source": [
    "import pandas as pd\n",
    "\n",
    "# Load the pickle files\n",
    "df_A = pd.read_pickle('full_op_TTH_M9_Alpha4_13_photons.pickle')\n",
    "df_B = pd.read_pickle('full_op_WH_M9_Alpha4_13_photons.pickle')\n",
    "df_C = pd.read_pickle('full_op_ZH_M9_Alpha4_13_photons.pickle')\n",
    "\n",
    "# Extract the index levels\n",
    "index_A = df_A.index\n",
    "index_B = df_B.index\n",
    "index_C = df_C.index\n",
    "\n",
    "# Get the maximum id from df_A\n",
    "max_id_A = index_A.get_level_values('id').max()\n",
    "\n",
    "# Adjust the id in df_B\n",
    "df_B = df_B.reset_index()\n",
    "df_B['id'] += (max_id_A + 1)\n",
    "df_B = df_B.set_index(['N', 'id'])\n",
    "\n",
    "# Get the maximum id from df_B (after adjustment)\n",
    "max_id_B = df_B.index.get_level_values('id').max()\n",
    "\n",
    "# Adjust the id in df_C\n",
    "df_C = df_C.reset_index()\n",
    "df_C['id'] += (max_id_B + 1)\n",
    "df_C = df_C.set_index(['N', 'id'])\n",
    "\n",
    "# Concatenate the DataFrames\n",
    "df_combined = pd.concat([df_A, df_B, df_C])\n",
    "\n",
    "# Sort the resulting DataFrame by 'N' and 'id'\n",
    "df_combined = df_combined.sort_index()\n",
    "\n",
    "# Display the combined DataFrame\n",
    "print(df_combined)"
   ]
  },
  {
   "cell_type": "code",
   "execution_count": 10,
   "id": "1f12b51a-10c2-493a-8340-c9a4e7d32f72",
   "metadata": {
    "tags": []
   },
   "outputs": [],
   "source": [
    "import os\n",
    "def combine_pickle_files(X):\n",
    "    combined_df = pd.DataFrame()  # Initialize an empty DataFrame\n",
    "\n",
    "    # Iterate over the pickle files in X\n",
    "    for i, file in enumerate(X):\n",
    "        # Load the pickle file\n",
    "        df = pd.read_pickle(file)\n",
    "        \n",
    "        if combined_df.empty:\n",
    "            combined_df = df\n",
    "        else:\n",
    "            # Adjust the 'id' column to avoid overlap\n",
    "            max_id = combined_df.index.get_level_values('id').max()\n",
    "            df = df.reset_index()\n",
    "            df['id'] += (max_id + 1)\n",
    "            df = df.set_index(['N', 'id'])\n",
    "            \n",
    "            # Concatenate the DataFrame with the existing combined DataFrame\n",
    "            combined_df = pd.concat([combined_df, df])\n",
    "    \n",
    "    # Sort the resulting DataFrame by 'N' and 'id'\n",
    "    combined_df = combined_df.sort_index()\n",
    "\n",
    "    # Save the combined DataFrame as a pickle file with the name 'megaX.pickle'\n",
    "    output_filename = f\"mega{os.path.basename(X[0]).split('_')[2]}.pickle\"\n",
    "    combined_df.to_pickle(output_filename)\n",
    "\n",
    "    print(f\"Combined DataFrame saved as {output_filename}\")"
   ]
  },
  {
   "cell_type": "code",
   "execution_count": 16,
   "id": "c325e59c-b1ab-4d9c-bc51-bdbd9a381bc5",
   "metadata": {
    "tags": []
   },
   "outputs": [
    {
     "name": "stdout",
     "output_type": "stream",
     "text": [
      "Combined DataFrame saved as megaWH.pickle\n"
     ]
    }
   ],
   "source": [
    "import os\n",
    "all_files = os.listdir()\n",
    "pickle_files = [f for f in all_files if f.endswith('.pickle')]\n",
    "photon_4 = [f for f in pickle_files if 'Alpha4_13_photons' in f]\n",
    "\n",
    "combine_pickle_files(photon_4)"
   ]
  },
  {
   "cell_type": "code",
   "execution_count": 23,
   "id": "6af4ca1c-0bcc-4776-87a9-1b3261f6b1bb",
   "metadata": {
    "tags": []
   },
   "outputs": [
    {
     "name": "stdout",
     "output_type": "stream",
     "text": [
      "Combined DataFrame saved as megaX.pickle\n"
     ]
    }
   ],
   "source": [
    "import os\n",
    "all_files = os.listdir()\n",
    "pickle_files = [f for f in all_files if f.endswith('.pickle')]\n",
    "photon_4 = [f for f in pickle_files if 'Alpha4_13_photons' in f]\n",
    "combine_pickle(photon_4, output_filename='megaX.pickle')"
   ]
  },
  {
   "cell_type": "code",
   "execution_count": 25,
   "id": "296536cf-5cbe-47f4-858f-2ddc55db88aa",
   "metadata": {
    "tags": []
   },
   "outputs": [
    {
     "name": "stdout",
     "output_type": "stream",
     "text": [
      "['full_op_WH_M9_Alpha4_13_photons.pickle', 'full_op_ZH_M9_Alpha4_13_photons.pickle', 'full_op_TTH_M9_Alpha4_13_photons.pickle']\n"
     ]
    }
   ],
   "source": [
    "print(photon_4)"
   ]
  },
  {
   "cell_type": "code",
   "execution_count": 32,
   "id": "414adf8c-5b63-479e-af2b-79b1ec325536",
   "metadata": {
    "tags": []
   },
   "outputs": [],
   "source": [
    "combine_pickle3(photon_4, 'megaY.pickle')"
   ]
  },
  {
   "cell_type": "code",
   "execution_count": 35,
   "id": "1672700b-01ab-4ee5-bcc9-1d45d802c7a3",
   "metadata": {
    "tags": []
   },
   "outputs": [
    {
     "name": "stdout",
     "output_type": "stream",
     "text": [
      "                  E         pt       eta       phi      z_origin  \\\n",
      "N    id                                                            \n",
      "0    0    73.716583  34.904377 -1.379311  0.631110  2.460923e+02   \n",
      "1    0    37.303204  11.822771 -1.816084 -1.179839  8.069325e+02   \n",
      "     1    45.085621  18.483543 -1.539885  0.199650  2.969348e+02   \n",
      "2    0    10.234974  10.078589 -0.175935 -0.622571  0.000000e+00   \n",
      "3    0    47.491272  15.771776  1.766683  0.364387  1.081745e+03   \n",
      "...             ...        ...       ...       ...           ...   \n",
      "9997 2    33.275196  27.801348  0.617656 -1.561288  1.434363e+03   \n",
      "9998 0    16.748964  14.351334  0.570283  0.334153  2.541808e-08   \n",
      "     1   175.231567  71.323761  1.547769 -1.772587  2.509104e-14   \n",
      "9999 0    50.932896  24.793861 -1.347730 -2.311355  7.999267e-08   \n",
      "     1    23.566898  21.033663  0.485993  1.557980  5.248472e-08   \n",
      "\n",
      "              rel_tof         MET  \n",
      "N    id                            \n",
      "0    0   4.418066e-01   25.845676  \n",
      "1    0   8.421029e-01   80.731377  \n",
      "     1   2.147558e+00   53.918209  \n",
      "2    0   0.000000e+00  159.341827  \n",
      "3    0   4.479946e-01   19.843992  \n",
      "...               ...         ...  \n",
      "9997 2   2.969407e+00   73.059181  \n",
      "9998 0  -7.247118e-10   54.193825  \n",
      "     1   0.000000e+00   55.764107  \n",
      "9999 0  -5.104255e-10  117.119781  \n",
      "     1  -1.242446e-10   49.498066  \n",
      "\n",
      "[27093 rows x 7 columns]\n"
     ]
    }
   ],
   "source": [
    "succ2 = pd.read_pickle(r'megaY.pickle')\n",
    "print(succ2)"
   ]
  },
  {
   "cell_type": "code",
   "execution_count": 26,
   "id": "72a7170e-002d-4c41-a92f-7817d95d1e1d",
   "metadata": {
    "tags": []
   },
   "outputs": [
    {
     "name": "stdout",
     "output_type": "stream",
     "text": [
      "                  E         pt       eta       phi      z_origin  \\\n",
      "N    id                                                            \n",
      "0    9    73.716583  34.904377 -1.379311  0.631110  2.460923e+02   \n",
      "1    4    37.303204  11.822771 -1.816084 -1.179839  8.069325e+02   \n",
      "     9    45.085621  18.483543 -1.539885  0.199650  2.969348e+02   \n",
      "2    4    10.234974  10.078589 -0.175935 -0.622571  0.000000e+00   \n",
      "3    0    47.491272  15.771776  1.766683  0.364387  1.081745e+03   \n",
      "...             ...        ...       ...       ...           ...   \n",
      "9997 10   33.275196  27.801348  0.617656 -1.561288  1.434363e+03   \n",
      "9998 0    16.748964  14.351334  0.570283  0.334153  2.541808e-08   \n",
      "     9   175.231567  71.323761  1.547769 -1.772587  2.509104e-14   \n",
      "9999 4    50.932896  24.793861 -1.347730 -2.311355  7.999267e-08   \n",
      "     9    23.566898  21.033663  0.485993  1.557980  5.248472e-08   \n",
      "\n",
      "              rel_tof         MET  \n",
      "N    id                            \n",
      "0    9   4.418066e-01   25.845676  \n",
      "1    4   8.421029e-01   80.731377  \n",
      "     9   2.147558e+00   53.918209  \n",
      "2    4   0.000000e+00  159.341827  \n",
      "3    0   4.479946e-01   19.843992  \n",
      "...               ...         ...  \n",
      "9997 10  2.969407e+00   73.059181  \n",
      "9998 0  -7.247118e-10   54.193825  \n",
      "     9   0.000000e+00   55.764107  \n",
      "9999 4  -5.104255e-10  117.119781  \n",
      "     9  -1.242446e-10   49.498066  \n",
      "\n",
      "[27093 rows x 7 columns]\n"
     ]
    }
   ],
   "source": [
    "succ = pd.read_pickle(r'megaX.pickle')\n",
    "print(succ)"
   ]
  },
  {
   "cell_type": "code",
   "execution_count": 28,
   "id": "df751e84-995c-4f51-957c-d8ebf787d165",
   "metadata": {
    "tags": []
   },
   "outputs": [
    {
     "name": "stdout",
     "output_type": "stream",
     "text": [
      "Combined DataFrame saved as megaX.pickle\n"
     ]
    }
   ],
   "source": [
    "combine_pickle(photon_4, 'megaX.pickle')"
   ]
  },
  {
   "cell_type": "code",
   "execution_count": 29,
   "id": "fd168e49-f104-406e-bfc3-8ccfb5e3bc71",
   "metadata": {
    "tags": []
   },
   "outputs": [
    {
     "name": "stdout",
     "output_type": "stream",
     "text": [
      "                  E         pt       eta       phi      z_origin  \\\n",
      "N    id                                                            \n",
      "0    9    73.716583  34.904377 -1.379311  0.631110  2.460923e+02   \n",
      "1    4    37.303204  11.822771 -1.816084 -1.179839  8.069325e+02   \n",
      "     9    45.085621  18.483543 -1.539885  0.199650  2.969348e+02   \n",
      "2    4    10.234974  10.078589 -0.175935 -0.622571  0.000000e+00   \n",
      "3    0    47.491272  15.771776  1.766683  0.364387  1.081745e+03   \n",
      "...             ...        ...       ...       ...           ...   \n",
      "9997 10   33.275196  27.801348  0.617656 -1.561288  1.434363e+03   \n",
      "9998 0    16.748964  14.351334  0.570283  0.334153  2.541808e-08   \n",
      "     9   175.231567  71.323761  1.547769 -1.772587  2.509104e-14   \n",
      "9999 4    50.932896  24.793861 -1.347730 -2.311355  7.999267e-08   \n",
      "     9    23.566898  21.033663  0.485993  1.557980  5.248472e-08   \n",
      "\n",
      "              rel_tof         MET  \n",
      "N    id                            \n",
      "0    9   4.418066e-01   25.845676  \n",
      "1    4   8.421029e-01   80.731377  \n",
      "     9   2.147558e+00   53.918209  \n",
      "2    4   0.000000e+00  159.341827  \n",
      "3    0   4.479946e-01   19.843992  \n",
      "...               ...         ...  \n",
      "9997 10  2.969407e+00   73.059181  \n",
      "9998 0  -7.247118e-10   54.193825  \n",
      "     9   0.000000e+00   55.764107  \n",
      "9999 4  -5.104255e-10  117.119781  \n",
      "     9  -1.242446e-10   49.498066  \n",
      "\n",
      "[27093 rows x 7 columns]\n"
     ]
    }
   ],
   "source": [
    "succ = pd.read_pickle(r'megaX.pickle')\n",
    "print(succ)"
   ]
  },
  {
   "cell_type": "code",
   "execution_count": 31,
   "id": "4b222b6b-fcf2-40ec-9fca-cbcbd58f7d56",
   "metadata": {
    "tags": []
   },
   "outputs": [],
   "source": [
    "def combine_pickle3(file_list, output_filename):\n",
    "    # Initialize an empty list to store DataFrames\n",
    "    dataframes = []\n",
    "    \n",
    "    # Loop through each file in the list and process them\n",
    "    for file in file_list:\n",
    "        # Read the pickle file into a DataFrame\n",
    "        df = pd.read_pickle(file)\n",
    "        \n",
    "        # Append the DataFrame to the list\n",
    "        dataframes.append(df)\n",
    "    \n",
    "    # Concatenate all DataFrames in the list\n",
    "    combined_df = pd.concat(dataframes)\n",
    "    \n",
    "    # Reset the 'id' values to be sequential within each 'N'\n",
    "    combined_df = combined_df.reset_index()\n",
    "    \n",
    "    # Sort the DataFrame by 'N' first and then by the original 'id'\n",
    "    combined_df = combined_df.sort_values(by=['N', 'id'])\n",
    "    \n",
    "    # Create new sequential 'id' values within each 'N' group\n",
    "    combined_df['id'] = combined_df.groupby('N').cumcount()\n",
    "    \n",
    "    # Set the index back to ['N', 'id']\n",
    "    combined_df = combined_df.set_index(['N', 'id'])\n",
    "    \n",
    "    # Sort the resulting DataFrame by 'N' and 'id'\n",
    "    combined_df = combined_df.sort_index()\n",
    "    \n",
    "    # Save the combined DataFrame to a new pickle file\n",
    "    combined_df.to_pickle(output_filename)\n"
   ]
  },
  {
   "cell_type": "code",
   "execution_count": 36,
   "id": "3805b9e1-5b80-4d6b-9ae8-e321a0ba1aff",
   "metadata": {
    "tags": []
   },
   "outputs": [],
   "source": [
    "def filter_first_1000_n(input_pickle, output_pickle):\n",
    "    # Load the pickle file into a DataFrame\n",
    "    df = pd.read_pickle(input_pickle)\n",
    "    \n",
    "    # Filter the DataFrame to only include rows where N is between 0 and 999\n",
    "    df_filtered = df.loc[df.index.get_level_values('N') < 1000]\n",
    "    \n",
    "    # Save the filtered DataFrame to a new pickle file\n",
    "    df_filtered.to_pickle(output_pickle)"
   ]
  },
  {
   "cell_type": "code",
   "execution_count": 37,
   "id": "4266af72-1083-4597-9637-852b7116ca16",
   "metadata": {
    "tags": []
   },
   "outputs": [
    {
     "name": "stdout",
     "output_type": "stream",
     "text": [
      "                E         pt       eta       phi      z_origin       rel_tof  \\\n",
      "N   id                                                                         \n",
      "0   0   73.716583  34.904377 -1.379311  0.631110  2.460923e+02  4.418066e-01   \n",
      "1   0   37.303204  11.822771 -1.816084 -1.179839  8.069325e+02  8.421029e-01   \n",
      "    1   45.085621  18.483543 -1.539885  0.199650  2.969348e+02  2.147558e+00   \n",
      "2   0   10.234974  10.078589 -0.175935 -0.622571  0.000000e+00  0.000000e+00   \n",
      "3   0   47.491272  15.771776  1.766683  0.364387  1.081745e+03  4.479946e-01   \n",
      "...           ...        ...       ...       ...           ...           ...   \n",
      "998 1   21.713837  14.559167 -0.954710  2.142028  3.434141e-07 -7.728094e-10   \n",
      "    2   56.646935  46.548706 -0.647332 -2.358679  3.546181e+02  4.453470e-01   \n",
      "    3   49.675571  43.229229 -0.539545 -2.555604  2.468958e-07 -2.621107e-09   \n",
      "999 0   15.973089  15.737248  0.172910  2.062332  1.821582e-07 -3.553779e-10   \n",
      "    1   41.005875  21.826296  1.243931 -1.561679  2.196949e-08 -1.619753e-10   \n",
      "\n",
      "               MET  \n",
      "N   id              \n",
      "0   0    25.845676  \n",
      "1   0    80.731377  \n",
      "    1    53.918209  \n",
      "2   0   159.341827  \n",
      "3   0    19.843992  \n",
      "...            ...  \n",
      "998 1    12.986030  \n",
      "    2    19.716953  \n",
      "    3    19.716953  \n",
      "999 0    20.412062  \n",
      "    1    60.347263  \n",
      "\n",
      "[2716 rows x 7 columns]\n"
     ]
    }
   ],
   "source": [
    "filter_first_1000_n('megaY.pickle', 'filtered_output_file.pickle')\n",
    "redu = pd.read_pickle(r'filtered_output_file.pickle')\n",
    "print(redu)"
   ]
  },
  {
   "cell_type": "code",
   "execution_count": 30,
   "id": "25ee7ff3-6d0d-4e69-a34b-db0de4a3da4e",
   "metadata": {
    "tags": []
   },
   "outputs": [],
   "source": [
    "def combine_pickle2(file_list, output_filename):\n",
    "    '''\n",
    "    FUNCIONA\n",
    "    '''\n",
    "    # Initialize an empty list to store DataFrames\n",
    "    dataframes = []\n",
    "    \n",
    "    # Loop through each file in the list and process them\n",
    "    for file in file_list:\n",
    "        # Read the pickle file into a DataFrame\n",
    "        df = pd.read_pickle(file)\n",
    "        \n",
    "        # If this is the first file, just add it to the list\n",
    "        if not dataframes:\n",
    "            dataframes.append(df)\n",
    "            continue\n",
    "        \n",
    "        # Get the maximum 'id' from the last combined DataFrame\n",
    "        max_id = dataframes[-1].index.get_level_values('id').max()\n",
    "        \n",
    "        # Adjust the 'id' in the current DataFrame\n",
    "        df = df.reset_index()\n",
    "        df['id'] += (max_id + 1)\n",
    "        df = df.set_index(['N', 'id'])\n",
    "        \n",
    "        # Append the adjusted DataFrame to the list\n",
    "        dataframes.append(df)\n",
    "    \n",
    "    # Concatenate all DataFrames in the list\n",
    "    combined_df = pd.concat(dataframes)\n",
    "    \n",
    "    # Sort the resulting DataFrame by 'N' and 'id'\n",
    "    combined_df = combined_df.sort_index()\n",
    "    \n",
    "    # Save the combined DataFrame to a new pickle file\n",
    "    combined_df.to_pickle(output_filename)"
   ]
  },
  {
   "cell_type": "code",
   "execution_count": 21,
   "id": "029ec3d1-f346-4d8f-af71-f5fea8dacb0f",
   "metadata": {
    "tags": []
   },
   "outputs": [],
   "source": [
    "import os\n",
    "import pandas as pd\n",
    "\n",
    "def combine_pickle(pickle_files, output_filename='megaX.pickle'):\n",
    "    combined_df = None\n",
    "    \n",
    "    for i, file in enumerate(pickle_files):\n",
    "        # Load each pickle file\n",
    "        df = pd.read_pickle(file)\n",
    "        \n",
    "        if combined_df is None:\n",
    "            combined_df = df\n",
    "        else:\n",
    "            # Get the maximum 'id' from the combined DataFrame so far\n",
    "            max_id = combined_df.index.get_level_values('id').max()\n",
    "            \n",
    "            # Adjust the 'id' in the current DataFrame to avoid overlaps\n",
    "            df = df.reset_index()\n",
    "            df['id'] += (max_id + 1)\n",
    "            df = df.set_index(['N', 'id'])\n",
    "            \n",
    "            # Concatenate the current DataFrame with the combined one\n",
    "            combined_df = pd.concat([combined_df, df])\n",
    "\n",
    "    # Sort the resulting DataFrame by 'N' and 'id'\n",
    "    combined_df = combined_df.sort_index()\n",
    "    \n",
    "    # Save the combined DataFrame to a new pickle file\n",
    "    combined_df.to_pickle(output_filename)\n",
    "    print(f\"Combined DataFrame saved as {output_filename}\")\n"
   ]
  },
  {
   "cell_type": "code",
   "execution_count": null,
   "id": "20ffbb4b-ce7a-4107-96af-e2e72c248700",
   "metadata": {},
   "outputs": [],
   "source": [
    "# Example usage:\n",
    "all_files = os.listdir('origin')\n",
    "\n",
    "# Filter only the pickle files\n",
    "pickle_files = [f for f in all_files if f.endswith('.pickle')]\n",
    "photon_4 = [f for f in pickle_files if 'Alpha4_13_photons' in f]\n",
    "\n",
    "combine_pickle(photon_4, output_filename='megaX.pickle')"
   ]
  }
 ],
 "metadata": {
  "kernelspec": {
   "display_name": "Python 3 (ipykernel)",
   "language": "python",
   "name": "python3"
  },
  "language_info": {
   "codemirror_mode": {
    "name": "ipython",
    "version": 3
   },
   "file_extension": ".py",
   "mimetype": "text/x-python",
   "name": "python",
   "nbconvert_exporter": "python",
   "pygments_lexer": "ipython3",
   "version": "3.11.4"
  }
 },
 "nbformat": 4,
 "nbformat_minor": 5
}
