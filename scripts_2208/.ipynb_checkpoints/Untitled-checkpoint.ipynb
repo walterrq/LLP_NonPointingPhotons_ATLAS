{
 "cells": [
  {
   "cell_type": "code",
   "execution_count": 3,
   "id": "4b21c9f5-fa01-4665-88a7-6e0a2e677455",
   "metadata": {
    "tags": []
   },
   "outputs": [],
   "source": [
    "import numpy as np"
   ]
  },
  {
   "cell_type": "code",
   "execution_count": 4,
   "id": "b75f39d7-e3fa-4663-b49f-b32aa69e5cc0",
   "metadata": {
    "tags": []
   },
   "outputs": [
    {
     "name": "stdout",
     "output_type": "stream",
     "text": [
      "Data has been written to output.txt\n"
     ]
    }
   ],
   "source": [
    "num_iterations = 10  # Replace with your actual number of iterations\n",
    "\n",
    "# Example loop\n",
    "with open('output.txt', 'w') as f:\n",
    "    for i in range(1, num_iterations + 1):\n",
    "        x = i * 2\n",
    "        y = i * 3\n",
    "        z = i * 4\n",
    "        \n",
    "        # Format the output string\n",
    "        line = f\"{x} {y} {z}\\n\"\n",
    "        \n",
    "        # Write to the file\n",
    "        f.write(line)\n",
    "\n",
    "print(\"Data has been written to output.txt\")"
   ]
  },
  {
   "cell_type": "code",
   "execution_count": 5,
   "id": "9fbc5cca-804f-4954-a09f-e66919e505d8",
   "metadata": {},
   "outputs": [],
   "source": [
    "newrow = [1, 2, 3]\n",
    "A = [[1, 2, 3],[1, 2, 3]]\n",
    "A = np.vstack([A, newrow])"
   ]
  },
  {
   "cell_type": "code",
   "execution_count": 6,
   "id": "be21e055-017b-42f8-bf9b-72c6a2910d38",
   "metadata": {},
   "outputs": [
    {
     "name": "stdout",
     "output_type": "stream",
     "text": [
      "[[1 2 3]\n",
      " [1 2 3]\n",
      " [1 2 3]]\n"
     ]
    }
   ],
   "source": [
    "print(A)"
   ]
  },
  {
   "cell_type": "code",
   "execution_count": 8,
   "id": "10098660-42d4-42f6-9f7b-adf7545fae80",
   "metadata": {
    "tags": []
   },
   "outputs": [
    {
     "ename": "ValueError",
     "evalue": "all the input array dimensions except for the concatenation axis must match exactly, but along dimension 1, the array at index 0 has size 0 and the array at index 1 has size 3",
     "output_type": "error",
     "traceback": [
      "\u001b[0;31m---------------------------------------------------------------------------\u001b[0m",
      "\u001b[0;31mValueError\u001b[0m                                Traceback (most recent call last)",
      "Cell \u001b[0;32mIn[8], line 3\u001b[0m\n\u001b[1;32m      1\u001b[0m newrow \u001b[38;5;241m=\u001b[39m [\u001b[38;5;241m1\u001b[39m, \u001b[38;5;241m2\u001b[39m, \u001b[38;5;241m3\u001b[39m]\n\u001b[1;32m      2\u001b[0m \u001b[38;5;66;03m#B = pt_array = np.empty(0)\u001b[39;00m\n\u001b[0;32m----> 3\u001b[0m B \u001b[38;5;241m=\u001b[39m np\u001b[38;5;241m.\u001b[39mvstack([B, newrow])\n",
      "File \u001b[0;32m<__array_function__ internals>:200\u001b[0m, in \u001b[0;36mvstack\u001b[0;34m(*args, **kwargs)\u001b[0m\n",
      "File \u001b[0;32m~/anaconda3/lib/python3.11/site-packages/numpy/core/shape_base.py:296\u001b[0m, in \u001b[0;36mvstack\u001b[0;34m(tup, dtype, casting)\u001b[0m\n\u001b[1;32m    294\u001b[0m \u001b[38;5;28;01mif\u001b[39;00m \u001b[38;5;129;01mnot\u001b[39;00m \u001b[38;5;28misinstance\u001b[39m(arrs, \u001b[38;5;28mlist\u001b[39m):\n\u001b[1;32m    295\u001b[0m     arrs \u001b[38;5;241m=\u001b[39m [arrs]\n\u001b[0;32m--> 296\u001b[0m \u001b[38;5;28;01mreturn\u001b[39;00m _nx\u001b[38;5;241m.\u001b[39mconcatenate(arrs, \u001b[38;5;241m0\u001b[39m, dtype\u001b[38;5;241m=\u001b[39mdtype, casting\u001b[38;5;241m=\u001b[39mcasting)\n",
      "File \u001b[0;32m<__array_function__ internals>:200\u001b[0m, in \u001b[0;36mconcatenate\u001b[0;34m(*args, **kwargs)\u001b[0m\n",
      "\u001b[0;31mValueError\u001b[0m: all the input array dimensions except for the concatenation axis must match exactly, but along dimension 1, the array at index 0 has size 0 and the array at index 1 has size 3"
     ]
    }
   ],
   "source": [
    "newrow = [1, 2, 3]\n",
    "x = np.empty((0, 5)) \n",
    "B = pt_array = np.empty(0)\n",
    "B = np.vstack([B, newrow])"
   ]
  },
  {
   "cell_type": "code",
   "execution_count": null,
   "id": "d01b6d84-8ba8-47e5-ac51-b697c90a01f4",
   "metadata": {},
   "outputs": [],
   "source": []
  }
 ],
 "metadata": {
  "kernelspec": {
   "display_name": "Python 3 (ipykernel)",
   "language": "python",
   "name": "python3"
  },
  "language_info": {
   "codemirror_mode": {
    "name": "ipython",
    "version": 3
   },
   "file_extension": ".py",
   "mimetype": "text/x-python",
   "name": "python",
   "nbconvert_exporter": "python",
   "pygments_lexer": "ipython3",
   "version": "3.11.4"
  }
 },
 "nbformat": 4,
 "nbformat_minor": 5
}
